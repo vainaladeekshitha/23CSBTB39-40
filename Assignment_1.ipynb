{
  "nbformat": 4,
  "nbformat_minor": 0,
  "metadata": {
    "colab": {
      "provenance": [],
      "authorship_tag": "ABX9TyNlBmOzp69ZfSl/1D1HOvbk",
      "include_colab_link": true
    },
    "kernelspec": {
      "name": "python3",
      "display_name": "Python 3"
    },
    "language_info": {
      "name": "python"
    }
  },
  "cells": [
    {
      "cell_type": "markdown",
      "metadata": {
        "id": "view-in-github",
        "colab_type": "text"
      },
      "source": [
        "<a href=\"https://colab.research.google.com/github/vainaladeekshitha/23CSBTB39-40/blob/main/Assignment_1.ipynb\" target=\"_parent\"><img src=\"https://colab.research.google.com/assets/colab-badge.svg\" alt=\"Open In Colab\"/></a>"
      ]
    },
    {
      "cell_type": "code",
      "execution_count": 6,
      "metadata": {
        "colab": {
          "base_uri": "https://localhost:8080/"
        },
        "id": "NP71srM2PRUo",
        "outputId": "4d59b3af-41b5-4b0f-86d0-cbf3fb5b9395"
      },
      "outputs": [
        {
          "output_type": "stream",
          "name": "stdout",
          "text": [
            "[1, 2, 3, 4, 5]\n",
            "[5, 6, 7, 8, 9]\n",
            "[1 2 3 4 5]\n",
            "[5 6 7 8 9]\n",
            "<class 'list'>\n",
            "<class 'list'>\n",
            "<class 'numpy.ndarray'>\n",
            "<class 'numpy.ndarray'>\n",
            "[ 5 12 21 32 45]\n",
            "[0.2        0.33333333 0.42857143 0.5        0.55555556]\n",
            "[      1      64    2187   65536 1953125]\n",
            "Addition of two: [ 6  8 10 12 14]\n",
            "sin(array1): [ 0.84147098  0.90929743  0.14112001 -0.7568025  -0.95892427]\n",
            "log(array1): [0.         0.69314718 1.09861229 1.38629436 1.60943791]\n",
            "log2(array1): [0.         1.         1.5849625  2.         2.32192809]\n",
            "exp(array1): [  2.71828183   7.3890561   20.08553692  54.59815003 148.4131591 ]\n"
          ]
        }
      ],
      "source": [
        "list1=[1,2,3,4,5]\n",
        "list2=[5,6,7,8,9]\n",
        "print(list1)\n",
        "print(list2)\n",
        "import numpy as np\n",
        "a1=np.array(list1)\n",
        "a2=np.array(list2)\n",
        "print(a1)\n",
        "print(a2)\n",
        "\n",
        "list1_type=type(list1)\n",
        "list2_type=type(list2)\n",
        "print(list1_type)\n",
        "print(list2_type)\n",
        "a1_type=type(a1)\n",
        "a2_type=type(a2)\n",
        "print(a1_type)\n",
        "print(a2_type)\n",
        "\n",
        "multiplication=a1*a2\n",
        "print(multiplication)\n",
        "division = a1/a2\n",
        "print(division)\n",
        "powerof=a1**a2\n",
        "print(powerof)\n",
        "addition=(a1+a2)\n",
        "print(\"Addition of two:\",addition)\n",
        "\n",
        "sin_array = np.sin(a1)\n",
        "\n",
        "\n",
        "log_array = np.log(a1)\n",
        "\n",
        "\n",
        "log2_array = np.log2(a1)\n",
        "\n",
        "\n",
        "exp_array = np.exp(a1)\n",
        "\n",
        "print(f\"sin(array1): {sin_array}\")\n",
        "print(f\"log(array1): {log_array}\")\n",
        "print(f\"log2(array1): {log2_array}\")\n",
        "print(f\"exp(array1): {exp_array}\")\n"
      ]
    }
  ]
}