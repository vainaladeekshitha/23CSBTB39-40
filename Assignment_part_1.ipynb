{
  "nbformat": 4,
  "nbformat_minor": 0,
  "metadata": {
    "colab": {
      "provenance": [],
      "authorship_tag": "ABX9TyM5QXnWidplhk7WU1UuxEoB",
      "include_colab_link": true
    },
    "kernelspec": {
      "name": "python3",
      "display_name": "Python 3"
    },
    "language_info": {
      "name": "python"
    }
  },
  "cells": [
    {
      "cell_type": "markdown",
      "metadata": {
        "id": "view-in-github",
        "colab_type": "text"
      },
      "source": [
        "<a href=\"https://colab.research.google.com/github/vainaladeekshitha/23CSBTB39-40/blob/main/Assignment_part_1.ipynb\" target=\"_parent\"><img src=\"https://colab.research.google.com/assets/colab-badge.svg\" alt=\"Open In Colab\"/></a>"
      ]
    },
    {
      "cell_type": "code",
      "execution_count": 5,
      "metadata": {
        "colab": {
          "base_uri": "https://localhost:8080/"
        },
        "id": "Kmicv3voTTtI",
        "outputId": "279e40e8-64c2-4272-9f66-fef15789431c"
      },
      "outputs": [
        {
          "output_type": "stream",
          "name": "stdout",
          "text": [
            "Type of list1: <class 'list'>\n",
            "Type of list2: <class 'list'>\n",
            "Type of array1: <class 'numpy.ndarray'>\n",
            "Type of array2: <class 'numpy.ndarray'>\n",
            "Multiplication:\n",
            " [ 5 12 21 32]\n",
            "Division:\n",
            " [0.2        0.33333333 0.42857143 0.5       ]\n",
            "Power of 2:\n",
            " [ 1  4  9 16]\n",
            "Addition of Two:\n",
            "[1 2 3 4] + [5 6 7 8] = [ 6  8 10 12]\n",
            "Sin values:\n",
            " [ 0.84147098  0.90929743  0.14112001 -0.7568025 ]\n",
            "Log values:\n",
            " [0.         0.69314718 1.09861229 1.38629436]\n",
            "Log2 values:\n",
            " [0.        1.        1.5849625 2.       ]\n",
            "Exp values:\n",
            " [ 2.71828183  7.3890561  20.08553692 54.59815003]\n"
          ]
        }
      ],
      "source": [
        "# Import necessary libraries\n",
        "import numpy as np\n",
        "import pandas as pd\n",
        "\n",
        "# Create lists\n",
        "list1 = [1, 2, 3, 4]\n",
        "list2 = [5, 6, 7, 8]\n",
        "\n",
        "# Identify their type\n",
        "print(\"Type of list1:\", type(list1))\n",
        "print(\"Type of list2:\", type(list2))\n",
        "\n",
        "# Convert lists to NumPy arrays\n",
        "array1 = np.array(list1)\n",
        "array2 = np.array(list2)\n",
        "\n",
        "# Identify their type\n",
        "print(\"Type of array1:\", type(array1))\n",
        "print(\"Type of array2:\", type(array2))\n",
        "\n",
        "# Perform operations\n",
        "multiplication = array1 * array2\n",
        "division = array1 / array2\n",
        "poweroff = np.power(array1, 2)  # Square each element of array1\n",
        "\n",
        "# Print results\n",
        "print(\"Multiplication:\\n\", multiplication)\n",
        "print(\"Division:\\n\", division)\n",
        "print(\"Power of 2:\\n\", poweroff)\n",
        "\n",
        "# Create a textual output\n",
        "textual_output = f\"Addition of Two:\\n{array1} + {array2} = {array1 + array2}\"\n",
        "\n",
        "# Print the textual output\n",
        "print(textual_output)\n",
        "\n",
        "# Apply NumPy mathematical functions\n",
        "sin_values = np.sin(array1)\n",
        "log_values = np.log(array1)       # Natural logarithm\n",
        "log2_values = np.log2(array1)     # Base-2 logarithm\n",
        "exp_values = np.exp(array1)       # Exponential\n",
        "\n",
        "# Print results\n",
        "print(\"Sin values:\\n\", sin_values)\n",
        "print(\"Log values:\\n\", log_values)\n",
        "print(\"Log2 values:\\n\", log2_values)\n",
        "print(\"Exp values:\\n\", exp_values)\n",
        "\n",
        "\n"
      ]
    }
  ]
}